{
 "cells": [
  {
   "cell_type": "code",
   "execution_count": 1,
   "metadata": {
    "id": "n0xY2kBJmznZ"
   },
   "outputs": [],
   "source": [
    "import pandas as pd\n",
    "import re\n",
    "import matplotlib.pyplot as plt\n",
    "from sklearn.model_selection import train_test_split\n",
    "from sklearn.preprocessing import LabelEncoder\n",
    "from tensorflow.keras.models import Model\n",
    "from tensorflow.keras.models import Sequential\n",
    "from tensorflow.keras.layers import LSTM, Activation, Dense, Dropout, Input, Embedding\n",
    "from tensorflow.keras.optimizers import RMSprop\n",
    "from tensorflow.keras.preprocessing.text import Tokenizer\n",
    "from tensorflow.keras.preprocessing import sequence\n",
    "from tensorflow.keras.callbacks import EarlyStopping\n",
    "from tensorflow.keras.preprocessing.sequence import pad_sequences"
   ]
  },
  {
   "cell_type": "code",
   "execution_count": 2,
   "metadata": {
    "id": "-sEMWwQDm474"
   },
   "outputs": [],
   "source": [
    "real = pd.read_csv('True.csv')\n",
    "fake = pd.read_csv('Fake.csv')"
   ]
  },
  {
   "cell_type": "code",
   "execution_count": 3,
   "metadata": {
    "id": "uS9_uaVvoEil"
   },
   "outputs": [],
   "source": [
    "# dropping rows that have urls as text and date, real's dates look fine, also dropping ones that have no text\n",
    "fake_drop = fake.drop(index=[9358,15507,15508,18933])\n",
    "fake_drop = fake_drop.drop(fake_drop.loc[fake_drop.text == ' '].index)\n",
    "real_drop = real.drop(real.loc[real.text == ' '].index)"
   ]
  },
  {
   "cell_type": "code",
   "execution_count": 4,
   "metadata": {
    "id": "7OjKHOgsoNwh"
   },
   "outputs": [],
   "source": [
    "# Give labels to data before combining\n",
    "fake_drop['fake'] = 1\n",
    "real['fake'] = 0"
   ]
  },
  {
   "cell_type": "code",
   "execution_count": 5,
   "metadata": {
    "id": "Y60RnlNPoUly"
   },
   "outputs": [
    {
     "data": {
      "text/plain": [
       "(52014, 5)"
      ]
     },
     "execution_count": 5,
     "metadata": {},
     "output_type": "execute_result"
    }
   ],
   "source": [
    "combined = pd.concat([fake_drop, real])\n",
    "combined.shape"
   ]
  },
  {
   "cell_type": "code",
   "execution_count": 6,
   "metadata": {
    "id": "ZxzcGyPgu1yj"
   },
   "outputs": [],
   "source": [
    "## train/test split the text data and labels\n",
    "features = combined['text']\n",
    "labels = combined['fake']\n",
    "X_train, X_test, y_train, y_test = train_test_split(features, labels, random_state = 42)"
   ]
  },
  {
   "cell_type": "code",
   "execution_count": 7,
   "metadata": {
    "id": "mJrJDI7eoYzc"
   },
   "outputs": [],
   "source": [
    "## not removing stop words to maintain word context\n",
    "max_words = 2000\n",
    "max_len = 400\n",
    "\n",
    "token = Tokenizer(num_words=max_words, lower=True, split=' ')\n",
    "token.fit_on_texts(X_train.values)\n",
    "sequences = token.texts_to_sequences(X_train.values)\n",
    "train_sequences_padded = pad_sequences(sequences, maxlen=max_len)"
   ]
  },
  {
   "cell_type": "code",
   "execution_count": 8,
   "metadata": {
    "colab": {
     "base_uri": "https://localhost:8080/",
     "height": 232
    },
    "id": "07-9_mNnoi4n",
    "outputId": "c1fec3cd-b9f4-48f7-b09c-2f3a7198bf88"
   },
   "outputs": [
    {
     "name": "stdout",
     "output_type": "stream",
     "text": [
      "Model: \"sequential\"\n",
      "_________________________________________________________________\n",
      "Layer (type)                 Output Shape              Param #   \n",
      "=================================================================\n",
      "embedding (Embedding)        (None, 400, 50)           100000    \n",
      "_________________________________________________________________\n",
      "lstm (LSTM)                  (None, 64)                29440     \n",
      "_________________________________________________________________\n",
      "dense (Dense)                (None, 256)               16640     \n",
      "_________________________________________________________________\n",
      "activation (Activation)      (None, 256)               0         \n",
      "_________________________________________________________________\n",
      "dropout (Dropout)            (None, 256)               0         \n",
      "_________________________________________________________________\n",
      "out_layer (Dense)            (None, 1)                 257       \n",
      "_________________________________________________________________\n",
      "activation_1 (Activation)    (None, 1)                 0         \n",
      "=================================================================\n",
      "Total params: 146,337\n",
      "Trainable params: 146,337\n",
      "Non-trainable params: 0\n",
      "_________________________________________________________________\n",
      "None\n"
     ]
    }
   ],
   "source": [
    "embed_dim = 50\n",
    "lstm_out = 64\n",
    "batch_size = 32\n",
    "\n",
    "model = Sequential()\n",
    "model.add(Embedding(max_words, embed_dim, input_length = max_len))\n",
    "model.add(LSTM(lstm_out))\n",
    "model.add(Dense(256))\n",
    "model.add(Activation('relu'))\n",
    "model.add(Dropout(0.5))\n",
    "model.add(Dense(1, name='out_layer'))\n",
    "model.add(Activation('sigmoid'))\n",
    "model.compile(loss = 'binary_crossentropy', optimizer='adam',metrics = ['accuracy'])\n",
    "print(model.summary())"
   ]
  },
  {
   "cell_type": "code",
   "execution_count": 9,
   "metadata": {
    "colab": {
     "base_uri": "https://localhost:8080/",
     "height": 187
    },
    "id": "p3-CxKGD4qKa",
    "outputId": "4c0404ab-d619-46f8-f783-cbb15f40ee71"
   },
   "outputs": [
    {
     "name": "stdout",
     "output_type": "stream",
     "text": [
      "Epoch 1/5\n",
      "976/976 [==============================] - 189s 193ms/step - loss: 0.1656 - accuracy: 0.9367 - val_loss: 0.0964 - val_accuracy: 0.9646\n",
      "Epoch 2/5\n",
      "976/976 [==============================] - 178s 182ms/step - loss: 0.0916 - accuracy: 0.9667 - val_loss: 0.1196 - val_accuracy: 0.9623\n",
      "Epoch 3/5\n",
      "976/976 [==============================] - 175s 179ms/step - loss: 0.0869 - accuracy: 0.9705 - val_loss: 0.1070 - val_accuracy: 0.9614\n",
      "Epoch 4/5\n",
      "976/976 [==============================] - 173s 177ms/step - loss: 0.0724 - accuracy: 0.9749 - val_loss: 0.1086 - val_accuracy: 0.9626\n",
      "Epoch 5/5\n",
      "976/976 [==============================] - 178s 182ms/step - loss: 0.0542 - accuracy: 0.9827 - val_loss: 0.0881 - val_accuracy: 0.9704\n"
     ]
    }
   ],
   "source": [
    "history = model.fit(train_sequences_padded, y_train, batch_size=batch_size, epochs = 5, validation_split=0.2)"
   ]
  },
  {
   "cell_type": "code",
   "execution_count": 10,
   "metadata": {
    "id": "BIdMTgDNudov"
   },
   "outputs": [],
   "source": [
    "# now compare to test values\n",
    "test_sequences = token.texts_to_sequences(X_test)\n",
    "test_sequences_padded = pad_sequences(test_sequences, maxlen=max_len)"
   ]
  },
  {
   "cell_type": "code",
   "execution_count": 11,
   "metadata": {
    "colab": {
     "base_uri": "https://localhost:8080/",
     "height": 51
    },
    "id": "0Jt2P3Gn471j",
    "outputId": "0b556ffd-3300-49df-a414-7e15f1065fe6"
   },
   "outputs": [
    {
     "name": "stdout",
     "output_type": "stream",
     "text": [
      "407/407 [==============================] - 18s 45ms/step - loss: 0.0824 - accuracy: 0.9716\n"
     ]
    },
    {
     "data": {
      "text/plain": [
       "[0.08239367604255676, 0.9716241359710693]"
      ]
     },
     "execution_count": 11,
     "metadata": {},
     "output_type": "execute_result"
    }
   ],
   "source": [
    "model.evaluate(test_sequences_padded, y_test)"
   ]
  },
  {
   "cell_type": "code",
   "execution_count": 12,
   "metadata": {
    "colab": {
     "base_uri": "https://localhost:8080/",
     "height": 414
    },
    "id": "SjPv19K1s7vK",
    "outputId": "1736bfd4-d5f0-41a0-9d27-a69cff1a247a"
   },
   "outputs": [
    {
     "data": {
      "text/plain": [
       "([<matplotlib.axis.XTick at 0x20128c3f208>,\n",
       "  <matplotlib.axis.XTick at 0x20128c19648>,\n",
       "  <matplotlib.axis.XTick at 0x20128b02a08>,\n",
       "  <matplotlib.axis.XTick at 0x20129066188>,\n",
       "  <matplotlib.axis.XTick at 0x20128bb1fc8>],\n",
       " <a list of 5 Text xticklabel objects>)"
      ]
     },
     "execution_count": 12,
     "metadata": {},
     "output_type": "execute_result"
    },
    {
     "data": {
      "image/png": "[encoded data removed]",
      "text/plain": [
       "<Figure size 432x288 with 1 Axes>"
      ]
     },
     "metadata": {
      "needs_background": "light"
     },
     "output_type": "display_data"
    }
   ],
   "source": [
    "plt.plot(history.history['accuracy'])\n",
    "plt.plot(history.history['val_accuracy'])\n",
    "plt.title('Model Accuracy')\n",
    "plt.legend(['Training', 'Validation'])\n",
    "plt.ylabel('Accuracy (%)')\n",
    "plt.xlabel('Epochs')\n",
    "plt.xticks([0,1,2,3,4])"
   ]
  },
  {
   "cell_type": "code",
   "execution_count": 13,
   "metadata": {
    "colab": {
     "base_uri": "https://localhost:8080/",
     "height": 397
    },
    "id": "_RH-avkav-9T",
    "outputId": "3d94de74-a12e-4e5b-965a-c9c7ea3d05d9"
   },
   "outputs": [
    {
     "data": {
      "text/plain": [
       "([<matplotlib.axis.XTick at 0x201290aa448>,\n",
       "  <matplotlib.axis.XTick at 0x201290a7ac8>,\n",
       "  <matplotlib.axis.XTick at 0x201290a7688>,\n",
       "  <matplotlib.axis.XTick at 0x201290df648>,\n",
       "  <matplotlib.axis.XTick at 0x2013f284088>],\n",
       " <a list of 5 Text xticklabel objects>)"
      ]
     },
     "execution_count": 13,
     "metadata": {},
     "output_type": "execute_result"
    },
    {
     "data": {
      "image/png": "[encoded data removed]",
      "text/plain": [
       "<Figure size 432x288 with 1 Axes>"
      ]
     },
     "metadata": {
      "needs_background": "light"
     },
     "output_type": "display_data"
    }
   ],
   "source": [
    "plt.plot(history.history['loss'])\n",
    "plt.plot(history.history['val_loss'])\n",
    "plt.title('Model Loss')\n",
    "plt.legend(['Training', 'Validation'])\n",
    "plt.ylabel('Loss')\n",
    "plt.xlabel('Epochs')\n",
    "plt.xticks([0,1,2,3,4])"
   ]
  },
  {
   "cell_type": "markdown",
   "metadata": {
    "id": "GlOLUzjk6tHg"
   },
   "source": [
    "# **99%? That's amazing. Well, almost 99% of the real dataset has \"Reuters\" in it. I want to remove that to see how it affects the results.**\n",
    "\n",
    "\n",
    "\n"
   ]
  },
  {
   "cell_type": "code",
   "execution_count": 14,
   "metadata": {
    "id": "D-sVZBS262jw"
   },
   "outputs": [],
   "source": [
    "no_reuters = combined.copy()\n",
    "no_reuters.text = no_reuters.text.str.replace('Reuters', '')\n"
   ]
  },
  {
   "cell_type": "code",
   "execution_count": 15,
   "metadata": {
    "id": "rY87oy2h_MQf"
   },
   "outputs": [],
   "source": [
    "X_train, X_test, y_train, y_test = train_test_split(no_reuters['text'], no_reuters['fake'], random_state = 42)"
   ]
  },
  {
   "cell_type": "code",
   "execution_count": 16,
   "metadata": {
    "id": "1qtVH3EW6_HX"
   },
   "outputs": [],
   "source": [
    "max_words = 2000\n",
    "max_len = 400\n",
    "\n",
    "token = Tokenizer(num_words=max_words, lower=True,split=' ')\n",
    "token.fit_on_texts(X_train.values)\n",
    "sequences = token.texts_to_sequences(X_train.values)\n",
    "train_sequences_padded = pad_sequences(sequences, maxlen=max_len)"
   ]
  },
  {
   "cell_type": "code",
   "execution_count": 17,
   "metadata": {
    "colab": {
     "base_uri": "https://localhost:8080/",
     "height": 408
    },
    "id": "YR2Jm02KABF-",
    "outputId": "74342560-fcbf-4e35-8181-ead0751c96ac"
   },
   "outputs": [
    {
     "name": "stdout",
     "output_type": "stream",
     "text": [
      "Model: \"sequential_1\"\n",
      "_________________________________________________________________\n",
      "Layer (type)                 Output Shape              Param #   \n",
      "=================================================================\n",
      "embedding_1 (Embedding)      (None, 400, 50)           100000    \n",
      "_________________________________________________________________\n",
      "lstm_1 (LSTM)                (None, 64)                29440     \n",
      "_________________________________________________________________\n",
      "dense_1 (Dense)              (None, 256)               16640     \n",
      "_________________________________________________________________\n",
      "activation_2 (Activation)    (None, 256)               0         \n",
      "_________________________________________________________________\n",
      "dropout_1 (Dropout)          (None, 256)               0         \n",
      "_________________________________________________________________\n",
      "out_layer (Dense)            (None, 1)                 257       \n",
      "_________________________________________________________________\n",
      "activation_3 (Activation)    (None, 1)                 0         \n",
      "=================================================================\n",
      "Total params: 146,337\n",
      "Trainable params: 146,337\n",
      "Non-trainable params: 0\n",
      "_________________________________________________________________\n",
      "None\n"
     ]
    }
   ],
   "source": [
    "embed_dim = 50\n",
    "lstm_out = 64\n",
    "batch_size = 32\n",
    "\n",
    "model2 = Sequential()\n",
    "model2.add(Embedding(max_words, embed_dim, input_length = max_len))\n",
    "model2.add(LSTM(lstm_out))\n",
    "model2.add(Dense(256))\n",
    "model2.add(Activation('relu'))\n",
    "model2.add(Dropout(0.5))\n",
    "model2.add(Dense(1, name='out_layer'))\n",
    "model2.add(Activation('sigmoid'))\n",
    "model2.compile(loss = 'binary_crossentropy', optimizer='adam',metrics = ['accuracy'])\n",
    "print(model2.summary())"
   ]
  },
  {
   "cell_type": "code",
   "execution_count": 18,
   "metadata": {
    "colab": {
     "base_uri": "https://localhost:8080/",
     "height": 187
    },
    "id": "12TholvlAFT-",
    "outputId": "d99376cf-8100-4a14-f7bd-3800a999ea24"
   },
   "outputs": [
    {
     "name": "stdout",
     "output_type": "stream",
     "text": [
      "Epoch 1/5\n",
      "976/976 [==============================] - 168s 172ms/step - loss: 0.1812 - accuracy: 0.9267 - val_loss: 0.0959 - val_accuracy: 0.9640\n",
      "Epoch 2/5\n",
      "976/976 [==============================] - 167s 171ms/step - loss: 0.1082 - accuracy: 0.9604 - val_loss: 0.1029 - val_accuracy: 0.9605\n",
      "Epoch 3/5\n",
      "976/976 [==============================] - 169s 173ms/step - loss: 0.0805 - accuracy: 0.9724 - val_loss: 0.1261 - val_accuracy: 0.9598\n",
      "Epoch 4/5\n",
      "976/976 [==============================] - 212s 217ms/step - loss: 0.0661 - accuracy: 0.9775 - val_loss: 0.0928 - val_accuracy: 0.9687\n",
      "Epoch 5/5\n",
      "976/976 [==============================] - 220s 225ms/step - loss: 0.0552 - accuracy: 0.9806 - val_loss: 0.0888 - val_accuracy: 0.9678\n"
     ]
    }
   ],
   "source": [
    "history = model2.fit(train_sequences_padded, y_train, batch_size=batch_size, epochs = 5, validation_split=0.2)"
   ]
  },
  {
   "cell_type": "code",
   "execution_count": 19,
   "metadata": {
    "id": "QvVXFw9XAKyK"
   },
   "outputs": [],
   "source": [
    "# now compare to test values\n",
    "test_sequences = token.texts_to_sequences(X_test)\n",
    "test_sequences_padded = pad_sequences(test_sequences, maxlen=max_len)"
   ]
  },
  {
   "cell_type": "code",
   "execution_count": 20,
   "metadata": {
    "colab": {
     "base_uri": "https://localhost:8080/",
     "height": 51
    },
    "id": "rarFlJDXAl3B",
    "outputId": "38a6c4d2-34b1-43d7-9a88-7ac1db86933f"
   },
   "outputs": [
    {
     "name": "stdout",
     "output_type": "stream",
     "text": [
      "407/407 [==============================] - 18s 45ms/step - loss: 0.0833 - accuracy: 0.9702\n"
     ]
    },
    {
     "data": {
      "text/plain": [
       "[0.08327943831682205, 0.9702399373054504]"
      ]
     },
     "execution_count": 20,
     "metadata": {},
     "output_type": "execute_result"
    }
   ],
   "source": [
    "model2.evaluate(test_sequences_padded, y_test)"
   ]
  },
  {
   "cell_type": "code",
   "execution_count": 21,
   "metadata": {
    "id": "pmo7ew7NB5TH"
   },
   "outputs": [],
   "source": [
    "import matplotlib.pyplot as plt"
   ]
  },
  {
   "cell_type": "code",
   "execution_count": 22,
   "metadata": {
    "colab": {
     "base_uri": "https://localhost:8080/",
     "height": 397
    },
    "id": "Y20TVKa9AptX",
    "outputId": "2eed1822-5ae2-4eb8-9478-aa2232bfad32"
   },
   "outputs": [
    {
     "data": {
      "text/plain": [
       "([<matplotlib.axis.XTick at 0x201289a6e08>,\n",
       "  <matplotlib.axis.XTick at 0x20127d5c0c8>,\n",
       "  <matplotlib.axis.XTick at 0x20126ea9248>,\n",
       "  <matplotlib.axis.XTick at 0x20122c3c7c8>,\n",
       "  <matplotlib.axis.XTick at 0x20128ae1dc8>],\n",
       " <a list of 5 Text xticklabel objects>)"
      ]
     },
     "execution_count": 22,
     "metadata": {},
     "output_type": "execute_result"
    },
    {
     "data": {
      "image/png": "[encoded data removed]",
      "text/plain": [
       "<Figure size 432x288 with 1 Axes>"
      ]
     },
     "metadata": {
      "needs_background": "light"
     },
     "output_type": "display_data"
    }
   ],
   "source": [
    "plt.plot(history.history['accuracy'])\n",
    "plt.plot(history.history['val_accuracy'])\n",
    "plt.title('Model Accuracy')\n",
    "plt.legend(['Training', 'Validation'])\n",
    "plt.ylabel('Accuracy (%)')\n",
    "plt.xlabel('Epochs')\n",
    "plt.xticks([0,1,2,3,4])"
   ]
  },
  {
   "cell_type": "code",
   "execution_count": 23,
   "metadata": {
    "colab": {
     "base_uri": "https://localhost:8080/",
     "height": 397
    },
    "id": "_KRV8kJ_Az-J",
    "outputId": "ce1571b3-4c30-4c0c-9887-978ba719107f"
   },
   "outputs": [
    {
     "data": {
      "text/plain": [
       "([<matplotlib.axis.XTick at 0x201289ad608>,\n",
       "  <matplotlib.axis.XTick at 0x201273ace88>,\n",
       "  <matplotlib.axis.XTick at 0x201273acb88>,\n",
       "  <matplotlib.axis.XTick at 0x201289d14c8>,\n",
       "  <matplotlib.axis.XTick at 0x201289b4788>],\n",
       " <a list of 5 Text xticklabel objects>)"
      ]
     },
     "execution_count": 23,
     "metadata": {},
     "output_type": "execute_result"
    },
    {
     "data": {
      "image/png": "[encoded data removed]",
      "text/plain": [
       "<Figure size 432x288 with 1 Axes>"
      ]
     },
     "metadata": {
      "needs_background": "light"
     },
     "output_type": "display_data"
    }
   ],
   "source": [
    "plt.plot(history.history['accuracy'])\n",
    "plt.plot(history.history['val_accuracy'])\n",
    "plt.title('Model Accuracy')\n",
    "plt.legend(['Training', 'Validation'])\n",
    "plt.ylabel('Accuracy (%)')\n",
    "plt.xlabel('Epochs')\n",
    "plt.xticks([0,1,2,3,4])"
   ]
  },
  {
   "cell_type": "code",
   "execution_count": 24,
   "metadata": {
    "id": "BkFARkjxCK-R"
   },
   "outputs": [],
   "source": [
    "# can it generalize?\n",
    "fake = [\"\"\"Democratic freshman Rep. Ilhan Omar (D., Minn.) has been holding a series of secret fundraisers with groups that have been tied to the support of terrorism, appearances that have been closed to the press and hidden from public view.\n",
    "\n",
    "The content of these speeches, given to predominately Muslim audiences, remains unknown, prompting some of Omar's critics to express concern about the type of rhetoric she is using before these paying audiences, particularly in light of the lawmaker's repeated use of anti-Semitic tropes in public.\n",
    "\n",
    "Omar recently spoke in Florida at a private event hosted by Islamic Relief, a charity organization long said to have deep ties to groups that advocate terrorism against Israel. Over the weekend, she will appear at another private event in California that is hosted by CAIR-CA PAC, a political action committee affiliated with the Council on American Islamic Relations, or CAIR a group that was named as an unindicted co-conspirator in a massive terror-funding incident.\n",
    "\n",
    "Omar's appearance at these closed-door forums is raising eyebrows in the pro-Israel world due to her repeated and unapologetic public use of anti-Semitic stereotypes accusing Jewish people of controlling foreign policy and politics. With Omar's popularity skyrocketing on the anti-Israel left, it appears her rhetoric is translating into fundraising prowess.\n",
    "\n",
    "It remains unclear what Omar has told these audiences in her private talks. Washington Free Beacon attempts to obtain video of past events were unsuccessful, and multiple local news and television outlets in the Tampa, Fla., area, where Omar spoke to Islamic Relief last month, confirmed they were unable to gain access to the closed door event.\n",
    "\n",
    "Islamic Relief has come under congressional investigation for what lawmakers have described as its efforts to provide assistance to terrorist group such as Hamas and the Muslim Brotherhood. The charity has been banned by some countries as a result of these ties.\n",
    "\n",
    "In 2017, Congress sought to ban taxpayer funds from reaching the charity due to these terror links.\n",
    "\n",
    "A representative from Islamic Relief declined to provide the Free Beacon with any material related to Omar's appearance.\n",
    "\n",
    "\"The event was closed to the media. No materials are available,\" the official said.\n",
    "\n",
    "On Sunday, Omar will hold another meet and greet in Irvine, Calif., for CAIR-CA PAC. Those wishing to hear Omar speak are being asked to donate anywhere from $50 to $250 dollars, according to a flyer for the event.\n",
    "\n",
    "The CAIR event also appears closed to the press. Free Beacon attempts to contact the organizer and obtain access were unsuccessful. Requests for comment on the nature of the speeches sent to Omar's congressional office also were not returned.\n",
    "\n",
    "CAIR, a Muslim advocacy group known for its anti-Israel positions, was named by the U.S. government as part of a large network of groups known to be supporting Hamas.\n",
    "\n",
    "CAIR has been cited by the Anti-Defamation League, or ADL, for using its network of supporters to promote an \"anti-Israel agenda.\"\n",
    "\n",
    "\"CAIR’s anti-Israel agenda dates back to its founding by leaders of the Islamic Association for Palestine (IAP), a Hamas affiliated anti-Semitic propaganda organization,\" according to the ADL. \"While CAIR has denounced specific acts of terrorism in the U.S. and abroad, for many years it refused to unequivocally condemn Palestinian terror organizations and Hezbollah by name, which the U.S. and international community have condemned and isolated.\"\n",
    "\n",
    "Sarah Stern, founder of president of the Endowment for Middle East Truth, or EMET, a pro-Israel group that has condemned Omar for promoting anti-Semitic conspiracy theories, told the Free Beacon that the private nature of these events before controversial Islamic groups is very concerning.\n",
    "\n",
    "\"I just wonder what is Rep. Omar saying to a group of Islamic supporters that she feels is so secretive that she cannot say it to the American people, as a whole?\" Stern wondered. \"What is so secretive that it has to be off the record and closed to reporters? Will she say the same things in public to her Jewish voters in Minnesota that she says to her Islamic friends? What does this tell us about her openness, her honesty and her integrity?\"\n",
    "\n",
    "One veteran Republican political operative expressed concern about the secretive nature of these talks, telling the Free Beacon that Democrats must hide behind-closed-doors to appease these groups with anti-Israel rhetoric.\n",
    "\n",
    "\"Of course she's holding these meetings in secret. That's just how Democrats roll these days,\" the source said. \"They're for limiting your ability to spend money on the candidates you want to support, and for secretly fundraising from Islamist groups who support them. It really puts their support for campaign finance reform into perspective.\"\n",
    "\n",
    "After last month's Islamic Relief event, Stern's EMET and many other pro-Israel groups penned a letter to Democratic leaders in the House demanding Omar's removal from the powerful House Foreign Affairs Committee. These groups argued that Omar's anti-Semitic rhetoric and secretive meetings should disqualify her from a seat on that committee, which oversees the U.S.-Israel military alliance.\n",
    "\n",
    "\"Rep. Omar's presence as a keynote speaker to raise funds for Islamic Relief USA, whose parent organization and chapters have documented ties to terrorist organizations, demonstrates that she has learned next to nothing over the last few weeks when she was reprimanded by your office and by other Democrats for posting ugly, anti-Semitic attacks on Jews and their organizations,\" the pro-Israel groups wrote in a letter send to House Foreign Affairs Committee chair Elliott Engel (D., N.Y.) and House Speaker Nancy Pelosi (D., Calif.).\"\"\"]"
   ]
  },
  {
   "cell_type": "code",
   "execution_count": 25,
   "metadata": {
    "id": "YiSZ1JI51smO"
   },
   "outputs": [],
   "source": [
    "seq = token.texts_to_sequences(fake)\n",
    "padded = pad_sequences(seq, maxlen=max_len)\n",
    "pred = model2.predict(padded)"
   ]
  },
  {
   "cell_type": "code",
   "execution_count": 26,
   "metadata": {
    "colab": {
     "base_uri": "https://localhost:8080/",
     "height": 34
    },
    "id": "LgdEt09m1_36",
    "outputId": "b01e6d4e-5852-4400-b04c-22de6c360313"
   },
   "outputs": [
    {
     "data": {
      "text/plain": [
       "array([[0.9753551]], dtype=float32)"
      ]
     },
     "execution_count": 26,
     "metadata": {},
     "output_type": "execute_result"
    }
   ],
   "source": [
    "pred"
   ]
  },
  {
   "cell_type": "code",
   "execution_count": 27,
   "metadata": {
    "colab": {
     "base_uri": "https://localhost:8080/",
     "height": 54
    },
    "id": "tC9x3vsK2RWi",
    "outputId": "81a6dda9-ba6d-406c-e919-5522a448997c"
   },
   "outputs": [
    {
     "data": {
      "text/plain": [
       "'Donald Trump just couldn t wish all Americans a Happy New Year and leave it at that. Instead, he had to give a shout out to his enemies, haters and  the very dishonest fake news media.  The former reality show star had just one job to do and he couldn t do it. As our Country rapidly grows stronger and smarter, I want to wish all of my friends, supporters, enemies, haters, and even the very dishonest Fake News Media, a Happy and Healthy New Year,  President Angry Pants tweeted.  2018 will be a great year for America! As our Country rapidly grows stronger and smarter, I want to wish all of my friends, supporters, enemies, haters, and even the very dishonest Fake News Media, a Happy and Healthy New Year. 2018 will be a great year for America!  Donald J. Trump (@realDonaldTrump) December 31, 2017Trump s tweet went down about as welll as you d expect.What kind of president sends a New Year s greeting like this despicable, petty, infantile gibberish? Only Trump! His lack of decency won t even allow him to rise above the gutter long enough to wish the American citizens a happy new year!  Bishop Talbert Swan (@TalbertSwan) December 31, 2017no one likes you  Calvin (@calvinstowell) December 31, 2017Your impeachment would make 2018 a great year for America, but I ll also accept regaining control of Congress.  Miranda Yaver (@mirandayaver) December 31, 2017Do you hear yourself talk? When you have to include that many people that hate you you have to wonder? Why do the they all hate me?  Alan Sandoval (@AlanSandoval13) December 31, 2017Who uses the word Haters in a New Years wish??  Marlene (@marlene399) December 31, 2017You can t just say happy new year?  Koren pollitt (@Korencarpenter) December 31, 2017Here s Trump s New Year s Eve tweet from 2016.Happy New Year to all, including to my many enemies and those who have fought me and lost so badly they just don t know what to do. Love!  Donald J. Trump (@realDonaldTrump) December 31, 2016This is nothing new for Trump. He s been doing this for years.Trump has directed messages to his  enemies  and  haters  for New Year s, Easter, Thanksgiving, and the anniversary of 9/11. pic.twitter.com/4FPAe2KypA  Daniel Dale (@ddale8) December 31, 2017Trump s holiday tweets are clearly not presidential.How long did he work at Hallmark before becoming President?  Steven Goodine (@SGoodine) December 31, 2017He s always been like this . . . the only difference is that in the last few years, his filter has been breaking down.  Roy Schulze (@thbthttt) December 31, 2017Who, apart from a teenager uses the term haters?  Wendy (@WendyWhistles) December 31, 2017he s a fucking 5 year old  Who Knows (@rainyday80) December 31, 2017So, to all the people who voted for this a hole thinking he would change once he got into power, you were wrong! 70-year-old men don t change and now he s a year older.Photo by Andrew Burton/Getty Images.'"
      ]
     },
     "execution_count": 27,
     "metadata": {},
     "output_type": "execute_result"
    }
   ],
   "source": [
    "# from the dataset, just to confirm .predict output\n",
    "fake_drop.text[0]"
   ]
  },
  {
   "cell_type": "code",
   "execution_count": 28,
   "metadata": {
    "colab": {
     "base_uri": "https://localhost:8080/",
     "height": 34
    },
    "id": "rCd0NB3Q2ezN",
    "outputId": "d5da3680-074b-4d57-b442-ff9e3ca37443"
   },
   "outputs": [
    {
     "data": {
      "text/plain": [
       "array([[0.9999368]], dtype=float32)"
      ]
     },
     "execution_count": 28,
     "metadata": {},
     "output_type": "execute_result"
    }
   ],
   "source": [
    "seq = token.texts_to_sequences([fake_drop.text[0]])\n",
    "padded = pad_sequences(seq, maxlen=max_len)\n",
    "pred = model2.predict(padded)\n",
    "pred"
   ]
  },
  {
   "cell_type": "code",
   "execution_count": 29,
   "metadata": {
    "id": "xU3eZbn62mC_"
   },
   "outputs": [],
   "source": [
    "fake2 = [\"\"\"\n",
    "\n",
    "Most families of enormous wealth have a dark and sometimes scandalous, even monstrous past. Donald Trump's clan is no exception to that rule. His grandfather was a pimp and a tax evader, his father a racist who would in the course of his life, clash with New York City Police as a member of the Ku Klux Klan and then as a wealthy real estate magnate, refuse to rent to people of color.\n",
    "\n",
    "Donald Trump's legacy is anything but a rag to riches story. His dad kicked the bucket with $250-$300 million in the bank. The man who wants to ban all people of a particular religion from travel wasn't born with a silver spoon in his mouth, his was white gold. The only thing more obnoxious than Donald Trump himself, is his family's money-grubbing, bigoted history.\n",
    "\n",
    "\n",
    "Trump's Grandfather: Pimp and Tax Evader\n",
    "\n",
    "Donald Trump's grandfather, Frederick or Friedrich Trump, made his money from operating a decadent restaurant and hotel during the Gold Rush at Klondike in the Yukon.\n",
    "\n",
    "\n",
    "\"Trump made his first fortune operating boom-town hotels, restaurants and brothels\", is more accurate, according to the CBC news report, \"Donald Trump's grandfather ran Canadian brothel during gold rush, author says\". Author Gwenda Blair simply wrote, \"The bulk of the cash flow came from the sale of liquor and sex.\"\n",
    "\n",
    "Trump's grandfather was born in Germany, to parents who were employed by a vineyard. He moved to New York City in 1885 where he became a barber. After six years of this, Frederick Trump moved across the United States to Seattle, Washington, where he owned and operated what he referred to as a \"decadent restaurant\" that was actually called \"Poodle Dog\" in Seattle's red light district. Interestingly, the name and concept that had already been established in San Francisco. (He named his restaurant after a dog but would later make money selling horse meat) Around this time Frederick Trump became a US citizen.\n",
    "\n",
    "A Yukon Sun Newspaper writer described his business: \"For single men the Arctic has excellent accommodations as well as the best restaurant in Bennett, but I would not advise respectable women to go there to sleep as they are liable to hear that which would be repugnant to their feelings – and uttered, too, by the depraved of their own sex\".\n",
    "\n",
    "Trump moved to Monte Cristo, Wash. in 1894, and then four years later, shortly after the Klondike gold rush began, he relocated again to Bennett, British Columbia.  Here he ran the \"Arctic Restaurant and Hotel\".  He would next build the \"White Horse restaurant and Inn\" in Whitehorse, Yukon.\n",
    "\n",
    "An article published this year by Politico, explains that Frederick Trump sold off his investments and returned to Germany in 1901, as he sensed the end of the gold rush and a subsequent end to prostitution.  The following year, he married his former neighbor, Elizabeth Christ in his native German town of Kallstadt.  Then he came under heavy scrutiny by the German government,\n",
    "\n",
    "The country had compulsory military service for men which had to be fulfilled by the age of 35.  Donald Trump's grandfather waited until he was 35 to go back to Germany.  He had already amassed great wealth worth well more than half a million US dollars, or 80,000 marks.  While his town council was eager to keep Trump and his money, who billed himself as a man who \"avoided bars\" and led \"a quiet life\", other German authorities had a different plan, the Politico article explains.  In their view, Trump had relocated to Germany in order to avoid both tax and military-service obligations.\n",
    "\n",
    "\"...the regional authorities refused to let Trump off the hook. Unlike his grandson, who would become too big to fail in business and, more recently, to ignore in politics, Friedrich Trump was not big enough to get away with being a draft-dodger. He and his wife, then pregnant with Fred, Donald’s father, would not be allowed to resume their German citizenship and it would not be extended to their daughter; instead, they were deported—the same fate that Donald would like to impose on undocumented immigrants in the U.S. today.\"  \n",
    "\n",
    "The fact that Donald Trump has done so well in the Republican polls is quite amazing, as the party that we think of as conservative, would be expected to shun a man who created exploitative beauty pageants and was born rich strictly because of the nefarious activities of his ancestors.  \n",
    "\n",
    "Trump's Father: a Lifetime of Racist Practices\n",
    "\n",
    "Donald Trump has often said he made his money \"the old-fashioned way,\" and this is true, in that he prospered from racism.\n",
    "\n",
    "\n",
    "A New York Times article published 01 June 1927, related Donald Trump's father Fred Trump's role in a Ku Klux Klan brawl that pitted 1,000 klansmen against 100 New York City Police in Queens.  Though he wasn't officially charged, Fred Trump was one of seven klansmen arrested during the incident.  It probably wasn't very shocking at the time as America's racist practices were in full swing generations after Abe Lincoln freed the country's African-American slaves.  In fact, the mid-20's saw a peak in KKK activity.  Donald Trump would later deny his father's involvement in the KKK brawl in spite of the fact that it happened two decades before he was born.  Fred Trump's enthusiasm for racist practices never changed until he was forced to do so by the law.\n",
    "\n",
    "Presidential Candidate Donald Trump joined his father's real estate company in New York in 1971, and only two years later, the company was served with a civil rights lawsuit that was filed against the Trump organization because it refused to rent to Black people.  The Urban League got wind of the racist rental policy and actually sent both Black and White people in to apply for apartments that belonged to complexes owned by the Trumps.  What they proved, was that Black people were denied rentals across the board, and only Whites were approved.  A Village Voice article by Wayne Barrett, published in 1979, blew the lid off the Trump organization's brewing pot of racist practices.\n",
    "\n",
    "\"Three doormen were told to discourage blacks who came seeking apartments when the manager was out, either by claiming no vacancies or hiking up the rents. A super said he was instructed to send black applicants to the central office but to accept white applications on site. Another rental agent said that Fred Trump had instructed him not to rent to blacks. Further, the agent said Trump wanted 'to decrease the number of black tenants' already in the development 'by encouraging them to locate housing elsewhere.'\"\n",
    "\n",
    "The article explains that Trump's reaction was to claim that the suit was a \"nationwide drive to force owners of moderate and luxury apartments to rent to welfare recipients.\"\n",
    "\n",
    "\"'We are not going to be forced by anyone to put people...in our buildings to the detriment of tenants who have, for many years, lived in these buildings, raised families in them, and who plan to continue to live there. That would be reverse discrimination,' he said. 'The government is not going to experiment with our buildings to the detriment of ourselves and the thousands who live in them now.'\"   \n",
    "\n",
    "Indeed, Trump's wild, largely uninformed and unintelligent rants are the legacy of men who walked over the backs of other Americans to gain and secure their wealth.  This may be symbolic of the American capitalist way, but it falls short of any form of greatness or real human success.  As they say, the apple doesn't fall far from the tree.\n",
    "\n",
    "\n",
    "\"\"\"]"
   ]
  },
  {
   "cell_type": "code",
   "execution_count": 30,
   "metadata": {
    "colab": {
     "base_uri": "https://localhost:8080/",
     "height": 34
    },
    "id": "fbJvAbz_4r0b",
    "outputId": "015d4f53-27f3-464e-c748-f6d562cb603f"
   },
   "outputs": [
    {
     "data": {
      "text/plain": [
       "array([[0.99721503]], dtype=float32)"
      ]
     },
     "execution_count": 30,
     "metadata": {},
     "output_type": "execute_result"
    }
   ],
   "source": [
    "seq = token.texts_to_sequences(fake2)\n",
    "padded = pad_sequences(seq, maxlen=max_len)\n",
    "pred = model2.predict(padded)\n",
    "pred"
   ]
  },
  {
   "cell_type": "code",
   "execution_count": 31,
   "metadata": {
    "colab": {
     "base_uri": "https://localhost:8080/",
     "height": 111
    },
    "id": "YKKU4ZL14tjx",
    "outputId": "022a0c46-8cb5-4cc7-88f5-d909ef81fc55"
   },
   "outputs": [
    {
     "data": {
      "text/html": [
       "<div>\n",
       "<style scoped>\n",
       "    .dataframe tbody tr th:only-of-type {\n",
       "        vertical-align: middle;\n",
       "    }\n",
       "\n",
       "    .dataframe tbody tr th {\n",
       "        vertical-align: top;\n",
       "    }\n",
       "\n",
       "    .dataframe thead th {\n",
       "        text-align: right;\n",
       "    }\n",
       "</style>\n",
       "<table border=\"1\" class=\"dataframe\">\n",
       "  <thead>\n",
       "    <tr style=\"text-align: right;\">\n",
       "      <th></th>\n",
       "      <th>title</th>\n",
       "      <th>text</th>\n",
       "      <th>subject</th>\n",
       "      <th>date</th>\n",
       "      <th>fake</th>\n",
       "    </tr>\n",
       "  </thead>\n",
       "  <tbody>\n",
       "    <tr>\n",
       "      <th>10341</th>\n",
       "      <td>HYSTERICAL! Maxine Waters for POTUS? “Oh no! W...</td>\n",
       "      <td>The hysterical Terrence Williams weighs in on ...</td>\n",
       "      <td>politics</td>\n",
       "      <td>Jul 21, 2017</td>\n",
       "      <td>1</td>\n",
       "    </tr>\n",
       "    <tr>\n",
       "      <th>18276</th>\n",
       "      <td>HYSTERICAL! Maxine Waters for POTUS? “Oh no! W...</td>\n",
       "      <td>The hysterical Terrence Williams weighs in on ...</td>\n",
       "      <td>left-news</td>\n",
       "      <td>Jul 21, 2017</td>\n",
       "      <td>1</td>\n",
       "    </tr>\n",
       "  </tbody>\n",
       "</table>\n",
       "</div>"
      ],
      "text/plain": [
       "                                                   title  \\\n",
       "10341  HYSTERICAL! Maxine Waters for POTUS? “Oh no! W...   \n",
       "18276  HYSTERICAL! Maxine Waters for POTUS? “Oh no! W...   \n",
       "\n",
       "                                                    text    subject  \\\n",
       "10341  The hysterical Terrence Williams weighs in on ...   politics   \n",
       "18276  The hysterical Terrence Williams weighs in on ...  left-news   \n",
       "\n",
       "               date  fake  \n",
       "10341  Jul 21, 2017     1  \n",
       "18276  Jul 21, 2017     1  "
      ]
     },
     "execution_count": 31,
     "metadata": {},
     "output_type": "execute_result"
    }
   ],
   "source": [
    "fake_drop.loc[fake_drop.title.str.contains('pimp')]"
   ]
  },
  {
   "cell_type": "code",
   "execution_count": 32,
   "metadata": {
    "id": "5DCAcdsP41Rs"
   },
   "outputs": [],
   "source": [
    "new_real = [\"\"\"\n",
    "\n",
    "President Donald Trump said Sunday he would extend nationwide social distancing guidelines for another 30 days, an abrupt back-down from his push to reopen the country as coronavirus continues to spread.\n",
    "\n",
    "The 15-day guidelines Trump announced two weeks ago were set to expire on Monday, and the President had suggested over the past week that he was looking to relax them, at least in some parts of the country. He even floated Easter, on April 12, as a potential date by which the country could return to normal.\n",
    "But on Sunday he said he'd decided to extend the guidelines -- which include suggested limits on large gatherings -- to April 30, a sign his earlier predictions were overly rosy.\n",
    "\"The better you do, the faster this whole nightmare will end,\" the President said Sunday at a White House news conference. He said he would be finalizing a new plan and strategy early this week and announcing the details on Tuesday.\n",
    "The announcement marked an abrupt turnaround from a week ago when Trump said he was convinced the distancing restrictions were causing irreparable damage to the economy.\n",
    "Even as his health advisers warned of dire consequences if Americans were allowed to return to large gatherings or crowded workplaces, Trump appeared intent on allowing a return to normal life.\n",
    "On Sunday, however, Trump seemed to acknowledge that the spread of the virus had not slowed, at least not yet. He said that modeling shows that the peak of the death rate will likely hit in two weeks, but stressed that he hopes the country will be on its way to recovery by June 1.\n",
    "\"We can expect that by June 1st, we will be well on our way to recovery, we think by June 1st. A lot of great things will be happening,\" he said.\n",
    "Trump reiterated his intent to return life to normal.\n",
    "\"I want our life back again,\" he said.\n",
    "The White House's social distancing guidance advises all Americans to avoid groups of more than 10 and urges older people to stay at home.\n",
    "Over the past week, various options had been discussed among Trump's advisers on possible alternatives -- including allowing some states to return to normal more quickly -- to the current guidelines.\n",
    "But persistent problems in testing have prevented the full picture of the virus's spread from becoming known, leaving officials without a clear idea of which states were faring better than others.\n",
    "The scale of the outbreak was given stark urgency Sunday by Dr. Anthony Fauci, the top infectious disease specialist, who predicted on CNN that more than 100,000 Americans could eventually die from coronavirus with millions more infected.\n",
    "Trump suggested during his briefing that he didn't believe the larger numbers Fauci had mentioned earlier in the day, and called him to the podium.\n",
    "But Fauci only reiterated the figures he cited earlier.\n",
    "He said it's \"entirely conceivable\" that more than a million people in the US could contract coronavirus, but added that mitigation and extending the distancing guidelines through April will hopefully curb those numbers.\n",
    "Fauci was among the health advisers on Trump's team encouraging a continuation of the current guidelines after Trump heard from business leaders and some conservative allies that the restrictions were more damaging than the virus itself.\n",
    "\n",
    "Over the course of the past week, however, Trump appeared more wary of lifting the guidelines he had announced himself and which had been branded \"President Trump's 15 Days to Slow the Spread.\"\n",
    "He said on Friday that his priority in dealing with the virus was Americans' health, not the economy.\n",
    "And he suggested he was aware that most health professionals would not advise a full-scale return to life as normal.\n",
    "Questioned Sunday about the Easter date he floated earlier in the week, Trump said it was merely \"aspirational.\"\n",
    "\n",
    "\"\"\"]"
   ]
  },
  {
   "cell_type": "code",
   "execution_count": 33,
   "metadata": {
    "colab": {
     "base_uri": "https://localhost:8080/",
     "height": 34
    },
    "id": "ZoqLabEi5jpy",
    "outputId": "40883cff-6740-4cc9-9639-5d079349a78e"
   },
   "outputs": [
    {
     "data": {
      "text/plain": [
       "array([[0.00207388]], dtype=float32)"
      ]
     },
     "execution_count": 33,
     "metadata": {},
     "output_type": "execute_result"
    }
   ],
   "source": [
    "seq = token.texts_to_sequences(new_real)\n",
    "padded = pad_sequences(seq, maxlen=max_len)\n",
    "pred = model2.predict(padded)\n",
    "pred"
   ]
  },
  {
   "cell_type": "code",
   "execution_count": 49,
   "metadata": {},
   "outputs": [],
   "source": [
    "new_real = [\"\"\"\n",
    "\n",
    "Trump alive and he is in united states not in india\n",
    "\n",
    "\"\"\"]"
   ]
  },
  {
   "cell_type": "code",
   "execution_count": 50,
   "metadata": {},
   "outputs": [
    {
     "data": {
      "text/plain": [
       "array([[0.4810229]], dtype=float32)"
      ]
     },
     "execution_count": 50,
     "metadata": {},
     "output_type": "execute_result"
    }
   ],
   "source": [
    "seq = token.texts_to_sequences(new_real)\n",
    "padded = pad_sequences(seq, maxlen=max_len)\n",
    "pred = model2.predict(padded)\n",
    "pred"
   ]
  },
  {
   "cell_type": "code",
   "execution_count": null,
   "metadata": {},
   "outputs": [],
   "source": []
  }
 ],
 "metadata": {
  "accelerator": "GPU",
  "colab": {
   "name": "Copy of fake_news.ipynb",
   "provenance": [],
   "toc_visible": true
  },
  "kernelspec": {
   "display_name": "Python 3",
   "language": "python",
   "name": "python3"
  },
  "language_info": {
   "codemirror_mode": {
    "name": "ipython",
    "version": 3
   },
   "file_extension": ".py",
   "mimetype": "text/x-python",
   "name": "python",
   "nbconvert_exporter": "python",
   "pygments_lexer": "ipython3",
   "version": "3.7.6"
  }
 },
 "nbformat": 4,
 "nbformat_minor": 1
}
